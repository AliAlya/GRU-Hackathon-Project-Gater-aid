{
 "cells": [
  {
   "cell_type": "code",
   "execution_count": 29,
   "metadata": {},
   "outputs": [],
   "source": [
    "import csv\n",
    "import os"
   ]
  },
  {
   "cell_type": "code",
   "execution_count": 24,
   "metadata": {},
   "outputs": [],
   "source": [
    "def get_total_rows(path: str) -> int:\n",
    "    with open(path, mode='r') as file:\n",
    "        reader = csv.reader(file)\n",
    "        total_rows = sum(1 for row in reader)\n",
    "        \n",
    "        return total_rows\n",
    "    "
   ]
  },
  {
   "cell_type": "code",
   "execution_count": 27,
   "metadata": {},
   "outputs": [],
   "source": [
    "def clean_csv(path_read, path_write):\n",
    "    total_rows = get_total_rows(path_read)\n",
    "    table = []\n",
    "\n",
    "    # read\n",
    "    with open(path_read, mode='r') as file:\n",
    "        # Create a CSV reader\n",
    "        reader = csv.reader(file)\n",
    "        \n",
    "        # Iterate over each row in the CSV\n",
    "        for row_num, row in enumerate(reader):\n",
    "            # Convert each value in the row to float (or int, depending on your data)\n",
    "            try:\n",
    "                numeric_row = [float(value) for value in row]\n",
    "                if len(numeric_row) == 19 and numeric_row[0] > 4.0 and row_num < total_rows - 10:\n",
    "                    table.append(numeric_row)\n",
    "            except:\n",
    "                pass\n",
    "\n",
    "    # write\n",
    "    with open(path_write, mode='w', newline='') as file:\n",
    "        writer = csv.writer(file)\n",
    "\n",
    "        for row in table:\n",
    "            writer.writerow(row)"
   ]
  },
  {
   "cell_type": "code",
   "execution_count": 34,
   "metadata": {},
   "outputs": [],
   "source": [
    "original_dir = \"C:/Users/arwin/Documents/dev/MakeUofT2024/data/original/\"\n",
    "clean_dir = \"C:/Users/arwin/Documents/dev/MakeUofT2024/data/clean/\"\n",
    "\n",
    "# PROPER --> CLEAN_PROPER\n",
    "files = os.listdir(original_dir + \"proper/\")\n",
    "fnames = [file for file in files if file.endswith('.csv')]\n",
    "for fname in fnames:\n",
    "    read_path = original_dir + \"proper/\" + fname\n",
    "    write_path = clean_dir + \"clean_proper/\" + fname\n",
    "    clean_csv(read_path,  write_path)\n",
    "\n"
   ]
  },
  {
   "cell_type": "code",
   "execution_count": null,
   "metadata": {},
   "outputs": [],
   "source": [
    "original_dir = \"C:/Users/arwin/Documents/dev/MakeUofT2024/data/original/\"\n",
    "clean_dir = \"C:/Users/arwin/Documents/dev/MakeUofT2024/data/clean/\"\n",
    "\n",
    "# IMPROPER --> CLEAN_IMPROPER\n",
    "files = os.listdir(original_dir + \"improper/\")\n",
    "fnames = [file for file in files if file.endswith('.csv')]\n",
    "for fname in fnames:\n",
    "    read_path = original_dir + \"improper/\" + fname\n",
    "    write_path = clean_dir + \"clean_improper/\" + fname\n",
    "    clean_csv(read_path,  write_path)\n",
    "\n"
   ]
  }
 ],
 "metadata": {
  "kernelspec": {
   "display_name": "Python 3",
   "language": "python",
   "name": "python3"
  },
  "language_info": {
   "codemirror_mode": {
    "name": "ipython",
    "version": 3
   },
   "file_extension": ".py",
   "mimetype": "text/x-python",
   "name": "python",
   "nbconvert_exporter": "python",
   "pygments_lexer": "ipython3",
   "version": "3.11.5"
  }
 },
 "nbformat": 4,
 "nbformat_minor": 2
}
